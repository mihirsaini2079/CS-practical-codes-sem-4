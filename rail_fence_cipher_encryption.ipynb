{
  "nbformat": 4,
  "nbformat_minor": 0,
  "metadata": {
    "colab": {
      "name": "rail fence cipher encryption.ipynb",
      "provenance": []
    },
    "kernelspec": {
      "name": "python3",
      "display_name": "Python 3"
    },
    "language_info": {
      "name": "python"
    }
  },
  "cells": [
    {
      "cell_type": "code",
      "execution_count": 6,
      "metadata": {
        "colab": {
          "base_uri": "https://localhost:8080/"
        },
        "id": "-6ZuM-GGgJhG",
        "outputId": "0c3d9da3-5e5d-461a-e5d2-8724e9a7e2c7"
      },
      "outputs": [
        {
          "output_type": "stream",
          "name": "stdout",
          "text": [
            "henakracm\n"
          ]
        }
      ],
      "source": [
        "# function to encrypt a message\n",
        "def encryptRailFence(text, key):\n",
        " \n",
        "    # create the matrix to cipher\n",
        "    # plain text key = rows ,\n",
        "    # length(text) = columns\n",
        "    # filling the rail matrix to distinguish filled spaces from blank ones\n",
        "    rail = [['\\n' for i in range(len(text))]\n",
        "                  for j in range(key)]\n",
        "     \n",
        "    # to find the direction\n",
        "    dir_down = False\n",
        "    row, col = 0, 0\n",
        "     \n",
        "    for i in range(len(text)):\n",
        "         \n",
        "        # check the direction of flow\n",
        "        # reverse the direction if we've just filled the top or bottom rail\n",
        "        if (row == 0) or (row == key - 1):\n",
        "            dir_down = not dir_down\n",
        "         \n",
        "        # fill the corresponding alphabet\n",
        "        rail[row][col] = text[i]\n",
        "        col += 1\n",
        "         \n",
        "        # find the next row using\n",
        "        # direction flag\n",
        "        if dir_down:\n",
        "            row += 1\n",
        "        else:\n",
        "            row -= 1\n",
        "    # now we can construct the cipher\n",
        "    # using the rail matrix\n",
        "    result = []\n",
        "    for i in range(key):\n",
        "        for j in range(len(text)):\n",
        "            if rail[i][j] != '\\n':\n",
        "                result.append(rail[i][j])\n",
        "    return(\"\" . join(result))\n",
        "     \n",
        "# Driver code\n",
        "if __name__ == \"__main__\":\n",
        "    print(encryptRailFence(\"hackerman\", 3))"
      ]
    }
  ]
}