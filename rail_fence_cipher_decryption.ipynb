{
  "nbformat": 4,
  "nbformat_minor": 0,
  "metadata": {
    "colab": {
      "name": "rail fence cipher decryption.ipynb",
      "provenance": []
    },
    "kernelspec": {
      "name": "python3",
      "display_name": "Python 3"
    },
    "language_info": {
      "name": "python"
    }
  },
  "cells": [
    {
      "cell_type": "code",
      "execution_count": 3,
      "metadata": {
        "colab": {
          "base_uri": "https://localhost:8080/"
        },
        "id": "S81k85nIlbQf",
        "outputId": "065de9a9-76e1-4173-b300-34eba1f54425"
      },
      "outputs": [
        {
          "output_type": "stream",
          "name": "stdout",
          "text": [
            "hackerman\n"
          ]
        }
      ],
      "source": [
        "# This function receives cipher-text and key and returns the original text after decryption\n",
        "def decryptRailFence(cipher, key):\n",
        " \n",
        "    # create the matrix to cipher\n",
        "    # plain text key = rows ,\n",
        "    # length(text) = columns\n",
        "    # filling the rail matrix to distinguish filled spaces from blank ones\n",
        "    rail = [['\\n' for i in range(len(cipher))]\n",
        "                  for j in range(key)]\n",
        "     \n",
        "    # to find the direction\n",
        "    dir_down = None\n",
        "    row, col = 0, 0\n",
        "     \n",
        "    # mark the places with '*'\n",
        "    for i in range(len(cipher)):\n",
        "        if row == 0:\n",
        "            dir_down = True\n",
        "        if row == key - 1:\n",
        "            dir_down = False\n",
        "         \n",
        "        # place the marker\n",
        "        rail[row][col] = '*'\n",
        "        col += 1\n",
        "         \n",
        "        # find the next row using direction flag\n",
        "        if dir_down:\n",
        "            row += 1\n",
        "        else:\n",
        "            row -= 1\n",
        "             \n",
        "    # now we can construct the\n",
        "    # fill the rail matrix\n",
        "    index = 0\n",
        "    for i in range(key):\n",
        "        for j in range(len(cipher)):\n",
        "            if ((rail[i][j] == '*') and\n",
        "               (index < len(cipher))):\n",
        "                rail[i][j] = cipher[index]\n",
        "                index += 1\n",
        "         \n",
        "    # now read the matrix in zig-zag manner to construct the resultant text\n",
        "    result = []\n",
        "    row, col = 0, 0\n",
        "    for i in range(len(cipher)):\n",
        "         \n",
        "        # check the direction of flow\n",
        "        if row == 0:\n",
        "            dir_down = True\n",
        "        if row == key-1:\n",
        "            dir_down = False\n",
        "             \n",
        "        # place the marker\n",
        "        if (rail[row][col] != '*'):\n",
        "            result.append(rail[row][col])\n",
        "            col += 1\n",
        "             \n",
        "        # find the next row using\n",
        "        # direction flag\n",
        "        if dir_down:\n",
        "            row += 1\n",
        "        else:\n",
        "            row -= 1\n",
        "    return(\"\".join(result))\n",
        " \n",
        "# Driver code\n",
        "if __name__ == \"__main__\":\n",
        "   print(decryptRailFence(\"henakracm\", 3))"
      ]
    }
  ]
}