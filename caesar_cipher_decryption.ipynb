{
  "nbformat": 4,
  "nbformat_minor": 0,
  "metadata": {
    "colab": {
      "name": "caesar cipher decryption.ipynb",
      "provenance": []
    },
    "kernelspec": {
      "name": "python3",
      "display_name": "Python 3"
    },
    "language_info": {
      "name": "python"
    }
  },
  "cells": [
    {
      "cell_type": "code",
      "execution_count": 5,
      "metadata": {
        "colab": {
          "base_uri": "https://localhost:8080/"
        },
        "id": "z86ZvyubZqA8",
        "outputId": "99b53588-4eb3-4ae2-a90f-77452873f55a"
      },
      "outputs": [
        {
          "output_type": "stream",
          "name": "stdout",
          "text": [
            "cipher  : ohjrlythu\n",
            "Shift : 7\n",
            "text: hackerman\n"
          ]
        }
      ],
      "source": [
        "def decrypt(cipher,s):\n",
        "    result = \"\"\n",
        " \n",
        "    # traverse text\n",
        "    for i in range(len(cipher)):\n",
        "        char = cipher[i]\n",
        " \n",
        "        # decrypt uppercase characters\n",
        "        if (char.isupper()):\n",
        "            result += chr((ord(char) - s-65) % 26 + 65)\n",
        " \n",
        "        # decrypt lowercase characters\n",
        "        else:\n",
        "            result += chr((ord(char) - s - 97) % 26 + 97)\n",
        " \n",
        "    return result\n",
        " \n",
        "#check the above function\n",
        "cipher = \"ohjrlythu\"\n",
        "s = 7\n",
        "print (\"cipher  : \" + cipher)\n",
        "print (\"Shift : \" + str(s))\n",
        "print (\"text: \" + decrypt(cipher,s))"
      ]
    }
  ]
}